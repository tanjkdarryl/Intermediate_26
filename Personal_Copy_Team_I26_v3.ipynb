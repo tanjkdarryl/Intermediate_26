{
  "cells": [
    {
      "cell_type": "markdown",
      "metadata": {
        "id": "view-in-github",
        "colab_type": "text"
      },
      "source": [
        "<a href=\"https://colab.research.google.com/github/tanjkdarryl/Intermediate_26/blob/main/Personal_Copy_Team_I26_v3.ipynb\" target=\"_parent\"><img src=\"https://colab.research.google.com/assets/colab-badge.svg\" alt=\"Open In Colab\"/></a>"
      ]
    },
    {
      "cell_type": "markdown",
      "metadata": {
        "id": "_kOHuw4dEVvW"
      },
      "source": [
        "**Package Installation**"
      ]
    },
    {
      "cell_type": "code",
      "execution_count": 1,
      "metadata": {
        "id": "aqYHzE3eI9u4"
      },
      "outputs": [],
      "source": [
        "# Ngrok (Python Flask) Method:\n",
        "# !pip install flask-ngrok\n",
        "# !ngrok authtoken 2yM8OQsUHtfI09y48Lmoki1F9Zc_3m9iXgfbv4n1HdpRtaS6Q"
      ]
    },
    {
      "cell_type": "code",
      "execution_count": 2,
      "metadata": {
        "colab": {
          "base_uri": "https://localhost:8080/"
        },
        "id": "tjWbjdKRMsGj",
        "outputId": "5e951948-4115-4944-9c01-9b86b0f4dab3"
      },
      "outputs": [
        {
          "output_type": "stream",
          "name": "stdout",
          "text": [
            "Requirement already satisfied: streamlit in /usr/local/lib/python3.11/dist-packages (1.45.1)\n",
            "Requirement already satisfied: altair<6,>=4.0 in /usr/local/lib/python3.11/dist-packages (from streamlit) (5.5.0)\n",
            "Requirement already satisfied: blinker<2,>=1.5.0 in /usr/local/lib/python3.11/dist-packages (from streamlit) (1.9.0)\n",
            "Requirement already satisfied: cachetools<6,>=4.0 in /usr/local/lib/python3.11/dist-packages (from streamlit) (5.5.2)\n",
            "Requirement already satisfied: click<9,>=7.0 in /usr/local/lib/python3.11/dist-packages (from streamlit) (8.2.1)\n",
            "Requirement already satisfied: numpy<3,>=1.23 in /usr/local/lib/python3.11/dist-packages (from streamlit) (2.0.2)\n",
            "Requirement already satisfied: packaging<25,>=20 in /usr/local/lib/python3.11/dist-packages (from streamlit) (24.2)\n",
            "Requirement already satisfied: pandas<3,>=1.4.0 in /usr/local/lib/python3.11/dist-packages (from streamlit) (2.2.2)\n",
            "Requirement already satisfied: pillow<12,>=7.1.0 in /usr/local/lib/python3.11/dist-packages (from streamlit) (11.2.1)\n",
            "Requirement already satisfied: protobuf<7,>=3.20 in /usr/local/lib/python3.11/dist-packages (from streamlit) (5.29.5)\n",
            "Requirement already satisfied: pyarrow>=7.0 in /usr/local/lib/python3.11/dist-packages (from streamlit) (18.1.0)\n",
            "Requirement already satisfied: requests<3,>=2.27 in /usr/local/lib/python3.11/dist-packages (from streamlit) (2.32.3)\n",
            "Requirement already satisfied: tenacity<10,>=8.1.0 in /usr/local/lib/python3.11/dist-packages (from streamlit) (9.1.2)\n",
            "Requirement already satisfied: toml<2,>=0.10.1 in /usr/local/lib/python3.11/dist-packages (from streamlit) (0.10.2)\n",
            "Requirement already satisfied: typing-extensions<5,>=4.4.0 in /usr/local/lib/python3.11/dist-packages (from streamlit) (4.14.0)\n",
            "Requirement already satisfied: watchdog<7,>=2.1.5 in /usr/local/lib/python3.11/dist-packages (from streamlit) (6.0.0)\n",
            "Requirement already satisfied: gitpython!=3.1.19,<4,>=3.0.7 in /usr/local/lib/python3.11/dist-packages (from streamlit) (3.1.44)\n",
            "Requirement already satisfied: pydeck<1,>=0.8.0b4 in /usr/local/lib/python3.11/dist-packages (from streamlit) (0.9.1)\n",
            "Requirement already satisfied: tornado<7,>=6.0.3 in /usr/local/lib/python3.11/dist-packages (from streamlit) (6.4.2)\n",
            "Requirement already satisfied: jinja2 in /usr/local/lib/python3.11/dist-packages (from altair<6,>=4.0->streamlit) (3.1.6)\n",
            "Requirement already satisfied: jsonschema>=3.0 in /usr/local/lib/python3.11/dist-packages (from altair<6,>=4.0->streamlit) (4.24.0)\n",
            "Requirement already satisfied: narwhals>=1.14.2 in /usr/local/lib/python3.11/dist-packages (from altair<6,>=4.0->streamlit) (1.41.0)\n",
            "Requirement already satisfied: gitdb<5,>=4.0.1 in /usr/local/lib/python3.11/dist-packages (from gitpython!=3.1.19,<4,>=3.0.7->streamlit) (4.0.12)\n",
            "Requirement already satisfied: python-dateutil>=2.8.2 in /usr/local/lib/python3.11/dist-packages (from pandas<3,>=1.4.0->streamlit) (2.9.0.post0)\n",
            "Requirement already satisfied: pytz>=2020.1 in /usr/local/lib/python3.11/dist-packages (from pandas<3,>=1.4.0->streamlit) (2025.2)\n",
            "Requirement already satisfied: tzdata>=2022.7 in /usr/local/lib/python3.11/dist-packages (from pandas<3,>=1.4.0->streamlit) (2025.2)\n",
            "Requirement already satisfied: charset-normalizer<4,>=2 in /usr/local/lib/python3.11/dist-packages (from requests<3,>=2.27->streamlit) (3.4.2)\n",
            "Requirement already satisfied: idna<4,>=2.5 in /usr/local/lib/python3.11/dist-packages (from requests<3,>=2.27->streamlit) (3.10)\n",
            "Requirement already satisfied: urllib3<3,>=1.21.1 in /usr/local/lib/python3.11/dist-packages (from requests<3,>=2.27->streamlit) (2.4.0)\n",
            "Requirement already satisfied: certifi>=2017.4.17 in /usr/local/lib/python3.11/dist-packages (from requests<3,>=2.27->streamlit) (2025.4.26)\n",
            "Requirement already satisfied: smmap<6,>=3.0.1 in /usr/local/lib/python3.11/dist-packages (from gitdb<5,>=4.0.1->gitpython!=3.1.19,<4,>=3.0.7->streamlit) (5.0.2)\n",
            "Requirement already satisfied: MarkupSafe>=2.0 in /usr/local/lib/python3.11/dist-packages (from jinja2->altair<6,>=4.0->streamlit) (3.0.2)\n",
            "Requirement already satisfied: attrs>=22.2.0 in /usr/local/lib/python3.11/dist-packages (from jsonschema>=3.0->altair<6,>=4.0->streamlit) (25.3.0)\n",
            "Requirement already satisfied: jsonschema-specifications>=2023.03.6 in /usr/local/lib/python3.11/dist-packages (from jsonschema>=3.0->altair<6,>=4.0->streamlit) (2025.4.1)\n",
            "Requirement already satisfied: referencing>=0.28.4 in /usr/local/lib/python3.11/dist-packages (from jsonschema>=3.0->altair<6,>=4.0->streamlit) (0.36.2)\n",
            "Requirement already satisfied: rpds-py>=0.7.1 in /usr/local/lib/python3.11/dist-packages (from jsonschema>=3.0->altair<6,>=4.0->streamlit) (0.25.1)\n",
            "Requirement already satisfied: six>=1.5 in /usr/local/lib/python3.11/dist-packages (from python-dateutil>=2.8.2->pandas<3,>=1.4.0->streamlit) (1.17.0)\n",
            "Requirement already satisfied: streamlit in /usr/local/lib/python3.11/dist-packages (1.45.1)\n",
            "Requirement already satisfied: streamlit_option_menu in /usr/local/lib/python3.11/dist-packages (0.4.0)\n",
            "Requirement already satisfied: altair<6,>=4.0 in /usr/local/lib/python3.11/dist-packages (from streamlit) (5.5.0)\n",
            "Requirement already satisfied: blinker<2,>=1.5.0 in /usr/local/lib/python3.11/dist-packages (from streamlit) (1.9.0)\n",
            "Requirement already satisfied: cachetools<6,>=4.0 in /usr/local/lib/python3.11/dist-packages (from streamlit) (5.5.2)\n",
            "Requirement already satisfied: click<9,>=7.0 in /usr/local/lib/python3.11/dist-packages (from streamlit) (8.2.1)\n",
            "Requirement already satisfied: numpy<3,>=1.23 in /usr/local/lib/python3.11/dist-packages (from streamlit) (2.0.2)\n",
            "Requirement already satisfied: packaging<25,>=20 in /usr/local/lib/python3.11/dist-packages (from streamlit) (24.2)\n",
            "Requirement already satisfied: pandas<3,>=1.4.0 in /usr/local/lib/python3.11/dist-packages (from streamlit) (2.2.2)\n",
            "Requirement already satisfied: pillow<12,>=7.1.0 in /usr/local/lib/python3.11/dist-packages (from streamlit) (11.2.1)\n",
            "Requirement already satisfied: protobuf<7,>=3.20 in /usr/local/lib/python3.11/dist-packages (from streamlit) (5.29.5)\n",
            "Requirement already satisfied: pyarrow>=7.0 in /usr/local/lib/python3.11/dist-packages (from streamlit) (18.1.0)\n",
            "Requirement already satisfied: requests<3,>=2.27 in /usr/local/lib/python3.11/dist-packages (from streamlit) (2.32.3)\n",
            "Requirement already satisfied: tenacity<10,>=8.1.0 in /usr/local/lib/python3.11/dist-packages (from streamlit) (9.1.2)\n",
            "Requirement already satisfied: toml<2,>=0.10.1 in /usr/local/lib/python3.11/dist-packages (from streamlit) (0.10.2)\n",
            "Requirement already satisfied: typing-extensions<5,>=4.4.0 in /usr/local/lib/python3.11/dist-packages (from streamlit) (4.14.0)\n",
            "Requirement already satisfied: watchdog<7,>=2.1.5 in /usr/local/lib/python3.11/dist-packages (from streamlit) (6.0.0)\n",
            "Requirement already satisfied: gitpython!=3.1.19,<4,>=3.0.7 in /usr/local/lib/python3.11/dist-packages (from streamlit) (3.1.44)\n",
            "Requirement already satisfied: pydeck<1,>=0.8.0b4 in /usr/local/lib/python3.11/dist-packages (from streamlit) (0.9.1)\n",
            "Requirement already satisfied: tornado<7,>=6.0.3 in /usr/local/lib/python3.11/dist-packages (from streamlit) (6.4.2)\n",
            "Requirement already satisfied: jinja2 in /usr/local/lib/python3.11/dist-packages (from altair<6,>=4.0->streamlit) (3.1.6)\n",
            "Requirement already satisfied: jsonschema>=3.0 in /usr/local/lib/python3.11/dist-packages (from altair<6,>=4.0->streamlit) (4.24.0)\n",
            "Requirement already satisfied: narwhals>=1.14.2 in /usr/local/lib/python3.11/dist-packages (from altair<6,>=4.0->streamlit) (1.41.0)\n",
            "Requirement already satisfied: gitdb<5,>=4.0.1 in /usr/local/lib/python3.11/dist-packages (from gitpython!=3.1.19,<4,>=3.0.7->streamlit) (4.0.12)\n",
            "Requirement already satisfied: python-dateutil>=2.8.2 in /usr/local/lib/python3.11/dist-packages (from pandas<3,>=1.4.0->streamlit) (2.9.0.post0)\n",
            "Requirement already satisfied: pytz>=2020.1 in /usr/local/lib/python3.11/dist-packages (from pandas<3,>=1.4.0->streamlit) (2025.2)\n",
            "Requirement already satisfied: tzdata>=2022.7 in /usr/local/lib/python3.11/dist-packages (from pandas<3,>=1.4.0->streamlit) (2025.2)\n",
            "Requirement already satisfied: charset-normalizer<4,>=2 in /usr/local/lib/python3.11/dist-packages (from requests<3,>=2.27->streamlit) (3.4.2)\n",
            "Requirement already satisfied: idna<4,>=2.5 in /usr/local/lib/python3.11/dist-packages (from requests<3,>=2.27->streamlit) (3.10)\n",
            "Requirement already satisfied: urllib3<3,>=1.21.1 in /usr/local/lib/python3.11/dist-packages (from requests<3,>=2.27->streamlit) (2.4.0)\n",
            "Requirement already satisfied: certifi>=2017.4.17 in /usr/local/lib/python3.11/dist-packages (from requests<3,>=2.27->streamlit) (2025.4.26)\n",
            "Requirement already satisfied: smmap<6,>=3.0.1 in /usr/local/lib/python3.11/dist-packages (from gitdb<5,>=4.0.1->gitpython!=3.1.19,<4,>=3.0.7->streamlit) (5.0.2)\n",
            "Requirement already satisfied: MarkupSafe>=2.0 in /usr/local/lib/python3.11/dist-packages (from jinja2->altair<6,>=4.0->streamlit) (3.0.2)\n",
            "Requirement already satisfied: attrs>=22.2.0 in /usr/local/lib/python3.11/dist-packages (from jsonschema>=3.0->altair<6,>=4.0->streamlit) (25.3.0)\n",
            "Requirement already satisfied: jsonschema-specifications>=2023.03.6 in /usr/local/lib/python3.11/dist-packages (from jsonschema>=3.0->altair<6,>=4.0->streamlit) (2025.4.1)\n",
            "Requirement already satisfied: referencing>=0.28.4 in /usr/local/lib/python3.11/dist-packages (from jsonschema>=3.0->altair<6,>=4.0->streamlit) (0.36.2)\n",
            "Requirement already satisfied: rpds-py>=0.7.1 in /usr/local/lib/python3.11/dist-packages (from jsonschema>=3.0->altair<6,>=4.0->streamlit) (0.25.1)\n",
            "Requirement already satisfied: six>=1.5 in /usr/local/lib/python3.11/dist-packages (from python-dateutil>=2.8.2->pandas<3,>=1.4.0->streamlit) (1.17.0)\n",
            "\u001b[1G\u001b[0K⠙\u001b[1G\u001b[0K⠹\u001b[1G\u001b[0K⠸\u001b[1G\u001b[0K⠼\u001b[1G\u001b[0K⠴\u001b[1G\u001b[0K\n",
            "up to date, audited 23 packages in 1s\n",
            "\u001b[1G\u001b[0K⠴\u001b[1G\u001b[0K\n",
            "\u001b[1G\u001b[0K⠴\u001b[1G\u001b[0K3 packages are looking for funding\n",
            "\u001b[1G\u001b[0K⠴\u001b[1G\u001b[0K  run `npm fund` for details\n",
            "\u001b[1G\u001b[0K⠴\u001b[1G\u001b[0K\n",
            "2 \u001b[31m\u001b[1mhigh\u001b[22m\u001b[39m severity vulnerabilities\n",
            "\n",
            "To address all issues (including breaking changes), run:\n",
            "  npm audit fix --force\n",
            "\n",
            "Run `npm audit` for details.\n",
            "\u001b[1G\u001b[0K⠴\u001b[1G\u001b[0KRequirement already satisfied: torch in /usr/local/lib/python3.11/dist-packages (2.6.0+cu124)\n",
            "Requirement already satisfied: torchvision in /usr/local/lib/python3.11/dist-packages (0.21.0+cu124)\n",
            "Requirement already satisfied: torchaudio in /usr/local/lib/python3.11/dist-packages (2.6.0+cu124)\n",
            "Requirement already satisfied: filelock in /usr/local/lib/python3.11/dist-packages (from torch) (3.18.0)\n",
            "Requirement already satisfied: typing-extensions>=4.10.0 in /usr/local/lib/python3.11/dist-packages (from torch) (4.14.0)\n",
            "Requirement already satisfied: networkx in /usr/local/lib/python3.11/dist-packages (from torch) (3.5)\n",
            "Requirement already satisfied: jinja2 in /usr/local/lib/python3.11/dist-packages (from torch) (3.1.6)\n",
            "Requirement already satisfied: fsspec in /usr/local/lib/python3.11/dist-packages (from torch) (2025.3.2)\n",
            "Requirement already satisfied: nvidia-cuda-nvrtc-cu12==12.4.127 in /usr/local/lib/python3.11/dist-packages (from torch) (12.4.127)\n",
            "Requirement already satisfied: nvidia-cuda-runtime-cu12==12.4.127 in /usr/local/lib/python3.11/dist-packages (from torch) (12.4.127)\n",
            "Requirement already satisfied: nvidia-cuda-cupti-cu12==12.4.127 in /usr/local/lib/python3.11/dist-packages (from torch) (12.4.127)\n",
            "Requirement already satisfied: nvidia-cudnn-cu12==9.1.0.70 in /usr/local/lib/python3.11/dist-packages (from torch) (9.1.0.70)\n",
            "Requirement already satisfied: nvidia-cublas-cu12==12.4.5.8 in /usr/local/lib/python3.11/dist-packages (from torch) (12.4.5.8)\n",
            "Requirement already satisfied: nvidia-cufft-cu12==11.2.1.3 in /usr/local/lib/python3.11/dist-packages (from torch) (11.2.1.3)\n",
            "Requirement already satisfied: nvidia-curand-cu12==10.3.5.147 in /usr/local/lib/python3.11/dist-packages (from torch) (10.3.5.147)\n",
            "Requirement already satisfied: nvidia-cusolver-cu12==11.6.1.9 in /usr/local/lib/python3.11/dist-packages (from torch) (11.6.1.9)\n",
            "Requirement already satisfied: nvidia-cusparse-cu12==12.3.1.170 in /usr/local/lib/python3.11/dist-packages (from torch) (12.3.1.170)\n",
            "Requirement already satisfied: nvidia-cusparselt-cu12==0.6.2 in /usr/local/lib/python3.11/dist-packages (from torch) (0.6.2)\n",
            "Requirement already satisfied: nvidia-nccl-cu12==2.21.5 in /usr/local/lib/python3.11/dist-packages (from torch) (2.21.5)\n",
            "Requirement already satisfied: nvidia-nvtx-cu12==12.4.127 in /usr/local/lib/python3.11/dist-packages (from torch) (12.4.127)\n",
            "Requirement already satisfied: nvidia-nvjitlink-cu12==12.4.127 in /usr/local/lib/python3.11/dist-packages (from torch) (12.4.127)\n",
            "Requirement already satisfied: triton==3.2.0 in /usr/local/lib/python3.11/dist-packages (from torch) (3.2.0)\n",
            "Requirement already satisfied: sympy==1.13.1 in /usr/local/lib/python3.11/dist-packages (from torch) (1.13.1)\n",
            "Requirement already satisfied: mpmath<1.4,>=1.1.0 in /usr/local/lib/python3.11/dist-packages (from sympy==1.13.1->torch) (1.3.0)\n",
            "Requirement already satisfied: numpy in /usr/local/lib/python3.11/dist-packages (from torchvision) (2.0.2)\n",
            "Requirement already satisfied: pillow!=8.3.*,>=5.3.0 in /usr/local/lib/python3.11/dist-packages (from torchvision) (11.2.1)\n",
            "Requirement already satisfied: MarkupSafe>=2.0 in /usr/local/lib/python3.11/dist-packages (from jinja2->torch) (3.0.2)\n",
            "Requirement already satisfied: scikit-learn in /usr/local/lib/python3.11/dist-packages (1.6.1)\n",
            "Requirement already satisfied: numpy>=1.19.5 in /usr/local/lib/python3.11/dist-packages (from scikit-learn) (2.0.2)\n",
            "Requirement already satisfied: scipy>=1.6.0 in /usr/local/lib/python3.11/dist-packages (from scikit-learn) (1.15.3)\n",
            "Requirement already satisfied: joblib>=1.2.0 in /usr/local/lib/python3.11/dist-packages (from scikit-learn) (1.5.1)\n",
            "Requirement already satisfied: threadpoolctl>=3.1.0 in /usr/local/lib/python3.11/dist-packages (from scikit-learn) (3.6.0)\n",
            "Requirement already satisfied: matplotlib in /usr/local/lib/python3.11/dist-packages (3.10.0)\n",
            "Requirement already satisfied: contourpy>=1.0.1 in /usr/local/lib/python3.11/dist-packages (from matplotlib) (1.3.2)\n",
            "Requirement already satisfied: cycler>=0.10 in /usr/local/lib/python3.11/dist-packages (from matplotlib) (0.12.1)\n",
            "Requirement already satisfied: fonttools>=4.22.0 in /usr/local/lib/python3.11/dist-packages (from matplotlib) (4.58.1)\n",
            "Requirement already satisfied: kiwisolver>=1.3.1 in /usr/local/lib/python3.11/dist-packages (from matplotlib) (1.4.8)\n",
            "Requirement already satisfied: numpy>=1.23 in /usr/local/lib/python3.11/dist-packages (from matplotlib) (2.0.2)\n",
            "Requirement already satisfied: packaging>=20.0 in /usr/local/lib/python3.11/dist-packages (from matplotlib) (24.2)\n",
            "Requirement already satisfied: pillow>=8 in /usr/local/lib/python3.11/dist-packages (from matplotlib) (11.2.1)\n",
            "Requirement already satisfied: pyparsing>=2.3.1 in /usr/local/lib/python3.11/dist-packages (from matplotlib) (3.2.3)\n",
            "Requirement already satisfied: python-dateutil>=2.7 in /usr/local/lib/python3.11/dist-packages (from matplotlib) (2.9.0.post0)\n",
            "Requirement already satisfied: six>=1.5 in /usr/local/lib/python3.11/dist-packages (from python-dateutil>=2.7->matplotlib) (1.17.0)\n",
            "Requirement already satisfied: Pillow in /usr/local/lib/python3.11/dist-packages (11.2.1)\n"
          ]
        }
      ],
      "source": [
        "# Install Streamlit related packages\n",
        "!pip install streamlit\n",
        "!pip install streamlit streamlit_option_menu\n",
        "!pip install -q streamlit\n",
        "\n",
        "# Install localtunnel for exposing the app\n",
        "!npm install localtunnel\n",
        "\n",
        "# Create the 'pages' directory where your multi-page app files will reside\n",
        "!mkdir -p pages\n",
        "\n",
        "# For Facial Recognition\n",
        "!pip install torch torchvision torchaudio\n",
        "!pip install scikit-learn\n",
        "!pip install matplotlib\n",
        "!pip install Pillow\n",
        "\n",
        "# For Audio Feature\n",
        "!pip install librosa streamlit pandas scikit-learn\n",
        "!pip install soundfile"
      ]
    },
    {
      "cell_type": "markdown",
      "metadata": {
        "id": "YP52oN04I_kq"
      },
      "source": [
        "**Home Page**"
      ]
    },
    {
      "cell_type": "code",
      "execution_count": 3,
      "metadata": {
        "colab": {
          "base_uri": "https://localhost:8080/"
        },
        "id": "_rWMNWo0KtEK",
        "outputId": "59c293df-70a0-4323-df1f-c25d56886686"
      },
      "outputs": [
        {
          "output_type": "stream",
          "name": "stdout",
          "text": [
            "Overwriting Home.py\n"
          ]
        }
      ],
      "source": [
        "%%writefile Home.py\n",
        "import streamlit as st\n",
        "\n",
        "# Set Streamlit page configuration\n",
        "# page_title sets the browser tab title AND the label for this page in the sidebar\n",
        "st.set_page_config(\n",
        "    page_title=\"Home\", # This will be the label for the Home.py page in the sidebar\n",
        "    layout=\"centered\", # Sets the page layout to centered\n",
        "    initial_sidebar_state=\"expanded\", # Keeps the sidebar expanded by default\n",
        ")\n",
        "\n",
        "# --- Content for the Home Page ---\n",
        "st.title(\"Welcome to the Home Page! 🏠\")\n",
        "st.write(\"This is the main entry point of our Streamlit application.\")\n",
        "st.markdown(\"\"\"\n",
        "    Hello there! You've landed on the **Home Page**.\n",
        "    Use the sidebar on the left to navigate to other sections.\n",
        "\"\"\")\n",
        "\n",
        "st.info(\"To see the navigation, click the `>` icon in the top-left corner of the page (if the sidebar is hidden).\")"
      ]
    },
    {
      "cell_type": "markdown",
      "source": [
        "**About Page**"
      ],
      "metadata": {
        "id": "sQ21OeZ60yyu"
      }
    },
    {
      "cell_type": "code",
      "source": [
        "%%writefile pages/1_About.py\n",
        "import streamlit as st\n",
        "\n",
        "# Set page config for consistency across pages (optional, but good practice)\n",
        "st.set_page_config(layout=\"centered\")\n",
        "\n",
        "st.title(\"About Tommo: Your Digital Companion 💡\")\n",
        "\n",
        "st.markdown(\"\"\"\n",
        "    At [Your Hackathon Team Name - e.g., Team A.I. for Good], we envision a future where emotional well-being is accessible and proactively supported for everyone.\n",
        "    Introducing **Tommo**, your innovative digital companion designed to elevate mental health support, especially for the disadvantaged and disabled in our society.\n",
        "\"\"\")\n",
        "\n",
        "st.subheader(\"What is Tommo?\")\n",
        "st.markdown(\"\"\"\n",
        "    Tommo, named after the Japanese word for friend ('Tomodachi'), embodies true companionship.\n",
        "    It's more than just an application; it's a reliable touchpoint that helps individuals document their journey towards better mental well-being.\n",
        "    Our solution acts not just as a bridge between an individual and happiness, but also as a secure space to record feelings and expressions, serving as an impetus to better mental health.\n",
        "\"\"\")\n",
        "\n",
        "st.subheader(\"How Tommo Empowers & Assists\")\n",
        "st.markdown(\"\"\"\n",
        "    Tommo leverages cutting-edge AI, including sophisticated **facial and speech recognition** capabilities, to understand and interact with users empathetically.\n",
        "    At its core, a powerful **LLM (Large Language Model) powered by PyTorch** ensures secure, private, and helpful conversations, fostering a genuine sense of connection.\n",
        "\n",
        "    ### Reducing Therapists' Initial Efforts\n",
        "    A core aspect of Tommo's innovation is its ability to support mental health professionals. By consistently recording an individual's emotional states, expressions, and conversational insights over time, Tommo provides therapists with invaluable, objective data. This rich context is available *before* the first session, allowing therapists to:\n",
        "    * **Understand the user's emotional baseline and fluctuations.**\n",
        "    * **Identify recurring patterns or triggers.**\n",
        "    * **Tailor initial interventions more effectively.**\n",
        "    This significantly reduces the initial investigative effort for therapists, enabling them to focus on targeted, impactful therapeutic work from the outset, leading to more efficient and personalized care.\n",
        "\"\"\")\n",
        "\n",
        "st.subheader(\"Our Vision: Empowering Through AI\")\n",
        "st.markdown(\"\"\"\n",
        "    Tommo directly addresses the guiding question of the Hackathon:\n",
        "    _\"How may we improve accessibility and empower the disadvantaged and disabled in our society?\"_\n",
        "    By providing an accessible, non-judgmental, and technologically advanced platform, Tommo empowers individuals to proactively engage with their emotional well-being, breaking down barriers to mental health support.\n",
        "\"\"\")"
      ],
      "metadata": {
        "colab": {
          "base_uri": "https://localhost:8080/"
        },
        "id": "LnRBKSB40yaK",
        "outputId": "edcfd7e5-bfc0-4b7a-8587-b2901e90ec2e"
      },
      "execution_count": 4,
      "outputs": [
        {
          "output_type": "stream",
          "name": "stdout",
          "text": [
            "Overwriting pages/1_About.py\n"
          ]
        }
      ]
    },
    {
      "cell_type": "markdown",
      "source": [
        "**Contact Us Page**"
      ],
      "metadata": {
        "id": "MZR9EJhv06oz"
      }
    },
    {
      "cell_type": "code",
      "source": [
        "%%writefile pages/2_Contact.py\n",
        "import streamlit as st\n",
        "\n",
        "st.set_page_config(layout=\"centered\")\n",
        "\n",
        "st.title(\"Connect with the Tommo Team 🤝\")\n",
        "\n",
        "st.markdown(\"\"\"\n",
        "    We are passionate about mental wellness and always open to collaboration, feedback, or just a friendly chat about Tommo and the future of AI in mental health.\n",
        "    Your insights are invaluable as we strive to empower communities through innovation.\n",
        "\"\"\")\n",
        "\n",
        "st.subheader(\"General Inquiries\")\n",
        "st.markdown(\n",
        "    \"\"\"\n",
        "    Feel free to reach out with any questions about Tommo or our project:\n",
        "    * **Email:** [info@tommo-project.com](mailto:info@tommo-project.com)\n",
        "    \"\"\"\n",
        ")\n",
        "\n",
        "st.subheader(\"Support & Feedback\")\n",
        "st.markdown(\n",
        "    \"\"\"\n",
        "    If you have specific feedback or require support regarding Tommo's functionality:\n",
        "    * **Email:** [support@tommo-project.com](mailto:support@tommo-project.com)\n",
        "    \"\"\"\n",
        ")\n",
        "\n",
        "st.subheader(\"Join Our Community & Follow Our Progress\")\n",
        "st.markdown(\n",
        "    \"\"\"\n",
        "    Stay updated on Tommo's development and connect with our team:\n",
        "    * **Twitter/X:** [@TommoAI_Official](https://twitter.com/TommoAI_Official) (Follow us for updates!)\n",
        "    * **GitHub:** [Tommo-Project/Tommo-App](https://github.com/Tommo-Project/Tommo-App) (Explore our code!)\n",
        "    * **LinkedIn:** [Tommo AI Solutions](https://linkedin.com/company/tommo-ai-solutions) (Connect with our team members!)\n",
        "    * **Our Project Website:** [www.tommo-project.com](https://www.tommo-project.com) (Coming Soon!)\n",
        "    \"\"\"\n",
        ")"
      ],
      "metadata": {
        "colab": {
          "base_uri": "https://localhost:8080/"
        },
        "id": "V5Q_fzF4079b",
        "outputId": "ea056ec0-c5e3-4ae2-850d-bc1a1ca28d23"
      },
      "execution_count": 5,
      "outputs": [
        {
          "output_type": "stream",
          "name": "stdout",
          "text": [
            "Overwriting pages/2_Contact.py\n"
          ]
        }
      ]
    },
    {
      "cell_type": "markdown",
      "source": [
        "**Chatbot Page**"
      ],
      "metadata": {
        "id": "euP6hDAR1bNr"
      }
    },
    {
      "cell_type": "code",
      "source": [
        "%%writefile pages/3_Chatbot.py\n",
        "import streamlit as st\n",
        "\n",
        "st.set_page_config(layout=\"centered\")\n",
        "\n",
        "st.title(\"Tommo Chatbot: Your LLM Companion 💬\")\n",
        "st.write(\"Engage in secure and helpful conversations powered by our PyTorch-based LLM.\")"
      ],
      "metadata": {
        "colab": {
          "base_uri": "https://localhost:8080/"
        },
        "id": "C8EJ70j-1cdO",
        "outputId": "adbae1fe-eea4-492d-f306-1c681e760692"
      },
      "execution_count": 6,
      "outputs": [
        {
          "output_type": "stream",
          "name": "stdout",
          "text": [
            "Overwriting pages/3_Chatbot.py\n"
          ]
        }
      ]
    },
    {
      "cell_type": "markdown",
      "source": [
        "**Facial Recognition**"
      ],
      "metadata": {
        "id": "z5w0aF8H2z2j"
      }
    },
    {
      "cell_type": "code",
      "source": [
        "%%writefile pages/4_Facial_Recognition.py\n",
        "import streamlit as st\n",
        "import torch\n",
        "import torch.nn as nn\n",
        "from torchvision import transforms\n",
        "from PIL import Image\n",
        "import numpy as np\n",
        "import io\n",
        "\n",
        "st.set_page_config(layout=\"centered\")\n",
        "\n",
        "st.title(\"Facial Expression Recognition: Understanding Your Expressions 👁️\")\n",
        "st.write(\"Upload an image or use your camera to see predicted facial expressions.\")\n",
        "\n",
        "# --- 1. Define the Model Architecture ---\n",
        "class OptimizedEmotionCNN(nn.Module):\n",
        "    def __init__(self, num_classes=7):\n",
        "        super(OptimizedEmotionCNN, self).__init__()\n",
        "        self.conv1 = nn.Conv2d(1, 32, kernel_size=3, padding=1)\n",
        "        self.bn1 = nn.BatchNorm2d(32)\n",
        "        self.relu1 = nn.ReLU(inplace=True)\n",
        "        self.pool1 = nn.MaxPool2d(kernel_size=2, stride=2)\n",
        "        self.dropout1 = nn.Dropout2d(0.2)\n",
        "\n",
        "        self.conv2 = nn.Conv2d(32, 64, kernel_size=3, padding=1)\n",
        "        self.bn2 = nn.BatchNorm2d(64)\n",
        "        self.relu2 = nn.ReLU(inplace=True)\n",
        "        self.pool2 = nn.MaxPool2d(kernel_size=2, stride=2)\n",
        "        self.dropout2 = nn.Dropout2d(0.25)\n",
        "\n",
        "        self.conv3 = nn.Conv2d(64, 128, kernel_size=3, padding=1)\n",
        "        self.bn3 = nn.BatchNorm2d(128)\n",
        "        self.relu3 = nn.ReLU(inplace=True)\n",
        "        self.pool3 = nn.MaxPool2d(kernel_size=2, stride=2)\n",
        "        self.dropout3 = nn.Dropout2d(0.3)\n",
        "\n",
        "        self.global_avg_pool = nn.AdaptiveAvgPool2d((1, 1))\n",
        "\n",
        "        self.fc1 = nn.Linear(128, 64)\n",
        "        self.relu_fc = nn.ReLU(inplace=True)\n",
        "        self.dropout_fc = nn.Dropout(0.4)\n",
        "\n",
        "        self.fc_out = nn.Linear(64, num_classes)\n",
        "        self.depression_fc = nn.Linear(64, 1)\n",
        "\n",
        "    def forward(self, x):\n",
        "        x = self.dropout1(self.pool1(self.relu1(self.bn1(self.conv1(x)))))\n",
        "        x = self.dropout2(self.pool2(self.relu2(self.bn2(self.conv2(x)))))\n",
        "        x = self.dropout3(self.pool3(self.relu3(self.bn3(self.conv3(x)))))\n",
        "        x = self.global_avg_pool(x)\n",
        "        x = x.view(x.size(0), -1)\n",
        "        features = self.dropout_fc(self.relu_fc(self.fc1(x)))\n",
        "\n",
        "        emotion_output = self.fc_out(features)\n",
        "        depression_output = torch.sigmoid(self.depression_fc(features))\n",
        "        return emotion_output\n",
        "\n",
        "# --- 2. Load the Trained Model ---\n",
        "@st.cache_resource\n",
        "def load_emotion_model():\n",
        "    device = torch.device(\"cpu\")\n",
        "    model_path = '/content/drive/MyDrive/Intermediate_26_Resources/optimized_emotion_model_v5.pth'\n",
        "    class_names = ['angry', 'disgust', 'fear', 'happy', 'neutral', 'sad', 'surprise']\n",
        "\n",
        "    model = OptimizedEmotionCNN(num_classes=len(class_names)).to(device)\n",
        "    try:\n",
        "        model.load_state_dict(torch.load(model_path, map_location=device))\n",
        "        model.eval()\n",
        "        st.success(\"Emotion recognition model loaded successfully!\")\n",
        "        return model, class_names\n",
        "    except FileNotFoundError:\n",
        "        st.error(f\"Error: Model file not found at '{model_path}'.\")\n",
        "        return None, None\n",
        "    except Exception as e:\n",
        "        st.error(f\"Error loading model: {e}\")\n",
        "        return None, None\n",
        "\n",
        "model, class_names = load_emotion_model()\n",
        "\n",
        "# --- 3. Image Preprocessing ---\n",
        "transform_inference = transforms.Compose([\n",
        "    transforms.Grayscale(num_output_channels=1),\n",
        "    transforms.Resize((48, 48)),\n",
        "    transforms.ToTensor(),\n",
        "    transforms.Normalize((0.5,), (0.5,))\n",
        "])\n",
        "\n",
        "# --- 4. Prediction Function ---\n",
        "def predict_emotion(image_pil, model, class_names):\n",
        "    if model is None:\n",
        "        return \"Model not loaded.\", None\n",
        "\n",
        "    image_tensor = transform_inference(image_pil).unsqueeze(0).to(torch.device(\"cpu\"))\n",
        "\n",
        "    with torch.no_grad():\n",
        "        outputs = model(image_tensor)\n",
        "        probabilities = torch.softmax(outputs, dim=1)[0]\n",
        "        predicted_idx = torch.argmax(probabilities).item()\n",
        "\n",
        "    predicted_label = class_names[predicted_idx]\n",
        "    confidence = probabilities[predicted_idx].item() * 100\n",
        "    return predicted_label, confidence\n",
        "\n",
        "# --- 5. Streamlit UI ---\n",
        "if model:\n",
        "    st.markdown(\"---\")\n",
        "    st.subheader(\"Analyze an Image\")\n",
        "\n",
        "    uploaded_file = st.file_uploader(\"Upload an image...\", type=[\"jpg\", \"jpeg\", \"png\"])\n",
        "    camera_image = None\n",
        "\n",
        "    if uploaded_file is None:\n",
        "        camera_image = st.camera_input(\"Or take a picture...\")\n",
        "\n",
        "    image_to_process = None\n",
        "\n",
        "    if uploaded_file:\n",
        "        image_to_process = Image.open(uploaded_file).convert(\"RGB\")\n",
        "        st.image(image_to_process, caption=\"Uploaded Image\", use_container_width=True)\n",
        "    elif camera_image:\n",
        "        image_to_process = Image.open(io.BytesIO(camera_image.read())).convert(\"RGB\")\n",
        "        st.image(image_to_process, caption=\"Camera Image\", use_container_width=True)\n",
        "\n",
        "    if image_to_process:\n",
        "        with st.spinner(\"Analyzing facial expression...\"):\n",
        "            emotion, confidence = predict_emotion(image_to_process, model, class_names)\n",
        "            st.markdown(f\"### Predicted Emotion: **{emotion}**\")\n",
        "            st.info(f\"Confidence: {confidence:.2f}%\")\n",
        "    else:\n",
        "        st.info(\"Please upload or capture an image to start.\")"
      ],
      "metadata": {
        "id": "8fSCGkq320FD",
        "outputId": "5581a4e4-37ac-456c-836b-0fdccd1257bc",
        "colab": {
          "base_uri": "https://localhost:8080/"
        }
      },
      "execution_count": 7,
      "outputs": [
        {
          "output_type": "stream",
          "name": "stdout",
          "text": [
            "Overwriting pages/4_Facial_Recognition.py\n"
          ]
        }
      ]
    },
    {
      "cell_type": "markdown",
      "source": [
        "**Depression Test**"
      ],
      "metadata": {
        "id": "NmZIiWpmkuQW"
      }
    },
    {
      "cell_type": "code",
      "source": [
        "%%writefile pages/5_Depression_Test.py\n",
        "import streamlit as st\n",
        "st.set_page_config(page_title=\"PHQ-9 Depression Test\", layout=\"centered\")\n",
        "st.title(\"🧠 PHQ-9 Depression Screening\")\n",
        "st.markdown(\"\"\"\n",
        "This questionnaire is used by healthcare professionals to screen for depression.\n",
        "Over the **last 2 weeks**, how often have you been bothered by the following problems?\n",
        "Please answer honestly for an accurate reflection.\n",
        "\"\"\")\n",
        "\n",
        "# PHQ-9 questions and options\n",
        "questions = [\n",
        "    \"Little interest or pleasure in doing things\",\n",
        "    \"Feeling down, depressed, or hopeless\",\n",
        "    \"Trouble falling or staying asleep, or sleeping too much\",\n",
        "    \"Feeling tired or having little energy\",\n",
        "    \"Poor appetite or overeating\",\n",
        "    \"Feeling bad about yourself — or that you are a failure or have let yourself or your family down\",\n",
        "    \"Trouble concentrating on things, such as reading the newspaper or watching television\",\n",
        "    \"Moving or speaking so slowly that other people could have noticed? Or the opposite — being so fidgety or restless that you have been moving around a lot more than usual\",\n",
        "    \"Thoughts that you would be better off dead or of hurting yourself in some way\"\n",
        "]\n",
        "\n",
        "options = {\n",
        "    \"Not at all (0)\": 0,\n",
        "    \"Several days (1)\": 1,\n",
        "    \"More than half the days (2)\": 2,\n",
        "    \"Nearly every day (3)\": 3\n",
        "}\n",
        "\n",
        "responses = []\n",
        "score = 0\n",
        "\n",
        "with st.form(\"phq9_form\"):\n",
        "    for i, question in enumerate(questions, 1):\n",
        "        st.markdown(f\"**{i}. {question}**\")\n",
        "        choice = st.radio(\n",
        "            label=\"\",\n",
        "            options=list(options.keys()),\n",
        "            key=f\"q{i}\",\n",
        "            index=0\n",
        "        )\n",
        "        responses.append(options[choice])\n",
        "        st.markdown(\"---\")\n",
        "\n",
        "    submitted = st.form_submit_button(\"Submit\")\n",
        "\n",
        "if submitted:\n",
        "    score = sum(responses)\n",
        "    st.header(f\"📊 Total Score: {score} / 27\")\n",
        "\n",
        "    # Interpretation\n",
        "    if score <= 4:\n",
        "        level = \"Minimal or no depression\"\n",
        "        color = \"🟢\"\n",
        "    elif score <= 9:\n",
        "        level = \"Mild depression\"\n",
        "        color = \"🟡\"\n",
        "    elif score <= 14:\n",
        "        level = \"Moderate depression\"\n",
        "        color = \"🟠\"\n",
        "    elif score <= 19:\n",
        "        level = \"Moderately severe depression\"\n",
        "        color = \"🟠🔴\"\n",
        "    else:\n",
        "        level = \"Severe depression\"\n",
        "        color = \"🔴\"\n",
        "\n",
        "    st.subheader(f\"{color} Result: **{level}**\")\n",
        "\n",
        "    # Special attention for question 9\n",
        "    q9_response = responses[8]\n",
        "    if q9_response > 0:\n",
        "        st.error(\"⚠️ **You indicated having thoughts of self-harm.**\\nPlease consider reaching out to a healthcare professional or a crisis hotline immediately.\")\n",
        "\n",
        "    st.markdown(\"---\")\n",
        "    st.markdown(\"**This tool is not a diagnosis.** Always consult a qualified mental health provider for proper evaluation and support.\")\n",
        "\n",
        "    if score >= 10:\n",
        "        st.info(\"💡 Based on your score, it may be helpful to speak with a therapist.\")\n",
        "    else:\n",
        "        st.success(\"✅ Your score does not indicate clinical depression at this time.\")"
      ],
      "metadata": {
        "colab": {
          "base_uri": "https://localhost:8080/"
        },
        "id": "LnQ00Llwkudp",
        "outputId": "2b667f72-0c67-46b5-dc1d-cf11891082d8"
      },
      "execution_count": 8,
      "outputs": [
        {
          "output_type": "stream",
          "name": "stdout",
          "text": [
            "Overwriting pages/5_Depression_Test.py\n"
          ]
        }
      ]
    },
    {
      "cell_type": "markdown",
      "source": [
        "**Run the Streamlit Application**"
      ],
      "metadata": {
        "id": "5MkeDM5P3kCd"
      }
    },
    {
      "cell_type": "code",
      "execution_count": null,
      "metadata": {
        "colab": {
          "base_uri": "https://localhost:8080/"
        },
        "id": "Sd5GGoA6Pw4l",
        "outputId": "c6b4897f-2b40-41e3-c2b4-912cfac82782"
      },
      "outputs": [
        {
          "output_type": "stream",
          "name": "stdout",
          "text": [
            "34.82.202.92\n",
            "\u001b[1G\u001b[0K⠙\u001b[1G\u001b[0K⠹\u001b[1G\u001b[0Kyour url is: https://bright-jokes-shake.loca.lt\n"
          ]
        }
      ],
      "source": [
        "# Run the Streamlit app in the background and expose it via localtunnel\n",
        "# The output will include a URL you can open in your browser\n",
        "!streamlit run Home.py &>/content/logs.txt & npx localtunnel --port 8501 & curl ipv4.icanhazip.com"
      ]
    }
  ],
  "metadata": {
    "colab": {
      "provenance": [],
      "include_colab_link": true
    },
    "kernelspec": {
      "display_name": "Python 3",
      "name": "python3"
    },
    "language_info": {
      "name": "python"
    }
  },
  "nbformat": 4,
  "nbformat_minor": 0
}